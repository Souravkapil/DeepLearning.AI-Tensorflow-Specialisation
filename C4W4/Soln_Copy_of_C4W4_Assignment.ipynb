{
  "cells": [
    {
      "cell_type": "markdown",
      "metadata": {
        "id": "GpB-XQoULM_1"
      },
      "source": [
        "# Week 4: Using real world data\n",
        "\n",
        "Welcome! So far you have worked exclusively with generated data. This time you will be using the [Daily Minimum Temperatures in Melbourne](https://github.com/jbrownlee/Datasets/blob/master/daily-min-temperatures.csv) dataset which contains data of the daily minimum temperatures recorded in Melbourne from 1981 to 1990. In addition to be using Tensorflow's layers for processing sequence data such as Recurrent layers or LSTMs you will also use Convolutional layers to improve the model's performance.\n",
        "\n",
        "Let's get started!"
      ]
    },
    {
      "cell_type": "code",
      "execution_count": 1,
      "metadata": {
        "id": "56XEQOGknrAk"
      },
      "outputs": [],
      "source": [
        "import csv\n",
        "import pickle\n",
        "import numpy as np\n",
        "import tensorflow as tf\n",
        "import matplotlib.pyplot as plt\n",
        "from dataclasses import dataclass"
      ]
    },
    {
      "cell_type": "code",
      "source": [
        "!mkdir data"
      ],
      "metadata": {
        "id": "aS7wm9fot0Pp"
      },
      "execution_count": 2,
      "outputs": []
    },
    {
      "cell_type": "markdown",
      "metadata": {
        "id": "-sY2ApjBLNAA"
      },
      "source": [
        "Begin by looking at the structure of the csv that contains the data:"
      ]
    },
    {
      "cell_type": "code",
      "execution_count": 2,
      "metadata": {
        "id": "VZnobBCVLNAB",
        "colab": {
          "base_uri": "https://localhost:8080/"
        },
        "outputId": "de8d4ad5-156f-45bb-d46c-7f24ecc23163"
      },
      "outputs": [
        {
          "output_type": "stream",
          "name": "stdout",
          "text": [
            "Header looks like this:\n",
            "\n",
            "\"Date\",\"Temp\"\n",
            "\n",
            "First data point looks like this:\n",
            "\n",
            "\"1981-01-01\",20.7\n",
            "\n",
            "Second data point looks like this:\n",
            "\n",
            "\"1981-01-02\",17.9\n",
            "\n"
          ]
        }
      ],
      "source": [
        "TEMPERATURES_CSV = './data/daily-min-temperatures.csv'\n",
        "\n",
        "with open(TEMPERATURES_CSV, 'r') as csvfile:\n",
        "    print(f\"Header looks like this:\\n\\n{csvfile.readline()}\")    \n",
        "    print(f\"First data point looks like this:\\n\\n{csvfile.readline()}\")\n",
        "    print(f\"Second data point looks like this:\\n\\n{csvfile.readline()}\")"
      ]
    },
    {
      "cell_type": "markdown",
      "metadata": {
        "id": "XnUq7_-iLNAC"
      },
      "source": [
        "As you can see, each data point is composed of the date and the recorded minimum temperature for that date.\n",
        "\n",
        "\n",
        "In the first exercise you will code a function to read the data from the csv but for now run the next cell to load a helper function to plot the time series."
      ]
    },
    {
      "cell_type": "code",
      "execution_count": 3,
      "metadata": {
        "id": "sLl52leVp5wU"
      },
      "outputs": [],
      "source": [
        "def plot_series(time, series, format=\"-\", start=0, end=None):\n",
        "    plt.plot(time[start:end], series[start:end], format)\n",
        "    plt.xlabel(\"Time\")\n",
        "    plt.ylabel(\"Value\")\n",
        "    plt.grid(True)"
      ]
    },
    {
      "cell_type": "markdown",
      "metadata": {
        "id": "hZXvDbkWLNAE"
      },
      "source": [
        "## Parsing the raw data\n",
        "Now you need to read the data from the csv file. To do so, complete the `parse_data_from_file` function.\n",
        "\n",
        "A couple of things to note:\n",
        "\n",
        "- You should omit the first line as the file contains headers.\n",
        "- There is no need to save the data points as numpy arrays, regular lists is fine.\n",
        "- To read from csv files use `csv.reader` by passing the appropriate arguments.\n",
        "- `csv.reader` returns an iterable that returns each row in every iteration. So the temperature can be accessed via row[1] and the date can be discarded.\n",
        "- The `times` list should contain every timestep (starting at zero), which is just a sequence of ordered numbers with the same length as the `temperatures` list.\n",
        "- The values of the `temperatures` should be of `float` type. You can use Python's built-in `float` function to ensure this."
      ]
    },
    {
      "cell_type": "code",
      "execution_count": 4,
      "metadata": {
        "id": "NcG9r1eClbTh"
      },
      "outputs": [],
      "source": [
        "def parse_data_from_file(filename):\n",
        "    \n",
        "    times = []\n",
        "    temperatures = []\n",
        "\n",
        "    with open(filename) as csvfile:\n",
        "        \n",
        "        ### START CODE HERE      \n",
        "        reader = csv.reader(csvfile, delimiter=',')\n",
        "        next(reader)\n",
        "        step = 0\n",
        "        for row in reader:\n",
        "          temperatures.append(float(row[1]))\n",
        "          times.append(step)\n",
        "          step += 1\n",
        "        \n",
        "        ### END CODE HERE\n",
        "            \n",
        "    return times, temperatures"
      ]
    },
    {
      "cell_type": "markdown",
      "metadata": {
        "id": "FbPVBB5zLNAH"
      },
      "source": [
        "The next cell will use your function to compute the `times` and `temperatures` and will save these as numpy arrays within the `G` dataclass. This cell will also plot the time series:"
      ]
    },
    {
      "cell_type": "code",
      "execution_count": 5,
      "metadata": {
        "id": "7knIqxGDLNAI",
        "colab": {
          "base_uri": "https://localhost:8080/",
          "height": 388
        },
        "outputId": "4284c18c-ea66-436f-9484-c49c23337db3"
      },
      "outputs": [
        {
          "output_type": "display_data",
          "data": {
            "text/plain": [
              "<Figure size 720x432 with 1 Axes>"
            ],
            "image/png": "[encoded data removed]"
          },
          "metadata": {
            "needs_background": "light"
          }
        }
      ],
      "source": [
        "# Test your function and save all \"global\" variables within the G class (G stands for global)\n",
        "@dataclass\n",
        "class G:\n",
        "    TEMPERATURES_CSV = './data/daily-min-temperatures.csv'\n",
        "    times, temperatures = parse_data_from_file(TEMPERATURES_CSV)\n",
        "    TIME = np.array(times)\n",
        "    SERIES = np.array(temperatures)\n",
        "    SPLIT_TIME = 2500\n",
        "    WINDOW_SIZE = 60\n",
        "    BATCH_SIZE = 100\n",
        "    SHUFFLE_BUFFER_SIZE = 1000\n",
        "\n",
        "\n",
        "plt.figure(figsize=(10, 6))\n",
        "plot_series(G.TIME, G.SERIES)\n",
        "plt.show()"
      ]
    },
    {
      "cell_type": "markdown",
      "metadata": {
        "id": "5aNqvuJpLNAJ"
      },
      "source": [
        "**Expected Output:**\n",
        "<div>\n",
        "<img src=\"https://github.com/https-deeplearning-ai/tensorflow-1-public/blob/main/C4/W4/assignment/images/temp-series.png?raw=1\" width=\"500\"/>\n",
        "</div>"
      ]
    },
    {
      "cell_type": "markdown",
      "metadata": {
        "id": "mwfvMntBLNAK"
      },
      "source": [
        "## Processing the data\n",
        "\n",
        "Since you already coded the `train_val_split` and `windowed_dataset` functions during past week's assignments, this time they are provided for you:"
      ]
    },
    {
      "cell_type": "code",
      "execution_count": 6,
      "metadata": {
        "id": "VNOGc00HLNAL"
      },
      "outputs": [],
      "source": [
        "def train_val_split(time, series, time_step=G.SPLIT_TIME):\n",
        "\n",
        "    time_train = time[:time_step]\n",
        "    series_train = series[:time_step]\n",
        "    time_valid = time[time_step:]\n",
        "    series_valid = series[time_step:]\n",
        "\n",
        "    return time_train, series_train, time_valid, series_valid\n",
        "\n",
        "\n",
        "# Split the dataset\n",
        "time_train, series_train, time_valid, series_valid = train_val_split(G.TIME, G.SERIES)"
      ]
    },
    {
      "cell_type": "code",
      "execution_count": 7,
      "metadata": {
        "id": "lJwUUZscnG38"
      },
      "outputs": [],
      "source": [
        "def windowed_dataset(series, window_size=G.WINDOW_SIZE, batch_size=G.BATCH_SIZE, shuffle_buffer=G.SHUFFLE_BUFFER_SIZE):\n",
        "    ds = tf.data.Dataset.from_tensor_slices(series)\n",
        "    ds = ds.window(window_size + 1, shift=1, drop_remainder=True)\n",
        "    ds = ds.flat_map(lambda w: w.batch(window_size + 1))\n",
        "    ds = ds.shuffle(shuffle_buffer)\n",
        "    ds = ds.map(lambda w: (w[:-1], w[-1]))\n",
        "    ds = ds.batch(batch_size).prefetch(1)\n",
        "    return ds\n",
        "\n",
        "\n",
        "# Apply the transformation to the training set\n",
        "train_set = windowed_dataset(series_train, window_size=60, batch_size=100, shuffle_buffer=1000)"
      ]
    },
    {
      "cell_type": "markdown",
      "metadata": {
        "id": "R-UZIDb-LNAY"
      },
      "source": [
        "## Defining the model architecture\n",
        "\n",
        "Now that you have a function that will process the data before it is fed into your neural network for training, it is time to define your layer architecture. Just as in last week's assignment you will do the layer definition and compilation in two separate steps. Begin by completing the `create_uncompiled_model` function below.\n",
        "\n",
        "This is done so you can reuse your model's layers for the learning rate adjusting and the actual training.\n",
        "\n",
        "Hint:\n",
        "\n",
        "- No `Lambda` layers are required\n",
        "- Use a combination of `Conv1D` and `LSTM` layers followed by `Dense` layers"
      ]
    },
    {
      "cell_type": "code",
      "execution_count": 8,
      "metadata": {
        "id": "ZUgCNn-JLNAZ"
      },
      "outputs": [],
      "source": [
        "def create_uncompiled_model():\n",
        "\n",
        "    ### START CODE HERE\n",
        "    tf.keras.backend.clear_session()\n",
        "    tf.random.set_seed(51)\n",
        "    np.random.seed(51)\n",
        "    model = tf.keras.models.Sequential([\n",
        "    tf.keras.layers.Conv1D(filters=60, kernel_size=5,\n",
        "                      strides=1,\n",
        "                      activation=\"relu\",\n",
        "                      padding='causal',\n",
        "                      input_shape=[None, 1]),\n",
        "    tf.keras.layers.LSTM(60, return_sequences=True),\n",
        "    tf.keras.layers.LSTM(60),\n",
        "    tf.keras.layers.Dense(30, activation=\"relu\"),\n",
        "    tf.keras.layers.Dense(10, activation=\"relu\"),\n",
        "    tf.keras.layers.Dense(1)\n",
        "    ]) \n",
        "    \n",
        "    ### END CODE HERE\n",
        "\n",
        "    return model"
      ]
    },
    {
      "cell_type": "code",
      "execution_count": 9,
      "metadata": {
        "id": "Q5PFZKVOLNAa",
        "colab": {
          "base_uri": "https://localhost:8080/"
        },
        "outputId": "b3c23465-d654-4994-f793-046dfd2c5e65"
      },
      "outputs": [
        {
          "output_type": "stream",
          "name": "stdout",
          "text": [
            "Your current architecture is compatible with the windowed dataset! :)\n"
          ]
        }
      ],
      "source": [
        "# Test your uncompiled model\n",
        "uncompiled_model = create_uncompiled_model()\n",
        "\n",
        "try:\n",
        "    uncompiled_model.predict(train_set)\n",
        "except:\n",
        "    print(\"Your current architecture is incompatible with the windowed dataset, try adjusting it.\")\n",
        "else:\n",
        "    print(\"Your current architecture is compatible with the windowed dataset! :)\")"
      ]
    },
    {
      "cell_type": "markdown",
      "metadata": {
        "id": "xJuqqgANLNAb"
      },
      "source": [
        "## Adjusting the learning rate - (Optional Exercise)\n",
        "\n",
        "As you saw in the lecture you can leverage Tensorflow's callbacks to dinamically vary the learning rate during training. This can be helpful to get a better sense of which learning rate better acommodates to the problem at hand.\n",
        "\n",
        "**Notice that this is only changing the learning rate during the training process to give you an idea of what a reasonable learning rate is and should not be confused with selecting the best learning rate, this is known as hyperparameter optimization and it is outside the scope of this course.**\n",
        "\n",
        "For the optimizers you can try out:\n",
        "\n",
        "- tf.keras.optimizers.Adam\n",
        "- tf.keras.optimizers.SGD with a momentum of 0.9"
      ]
    },
    {
      "cell_type": "code",
      "execution_count": null,
      "metadata": {
        "id": "JYr-4uv1LNAb"
      },
      "outputs": [],
      "source": [
        "# def adjust_learning_rate(dataset):\n",
        "    \n",
        "#     model = create_uncompiled_model()\n",
        "    \n",
        "#     lr_schedule = tf.keras.callbacks.LearningRateScheduler(lambda epoch: 1e-4 * 10**(epoch / 20))\n",
        "    \n",
        "#     ### START CODE HERE\n",
        "    \n",
        "#     # Select your optimizer\n",
        "#     optimizer = None\n",
        "    \n",
        "#     # Compile the model passing in the appropriate loss\n",
        "#     model.compile(loss=None,\n",
        "#                   optimizer=optimizer, \n",
        "#                   metrics=[\"mae\"]) \n",
        "    \n",
        "#     ### END CODE HERE\n",
        "    \n",
        "#     history = model.fit(dataset, epochs=100, callbacks=[lr_schedule])\n",
        "    \n",
        "#     return history"
      ]
    },
    {
      "cell_type": "code",
      "execution_count": null,
      "metadata": {
        "id": "mYz_BHnFLNAc"
      },
      "outputs": [],
      "source": [
        "# # Run the training with dynamic LR\n",
        "# lr_history = adjust_learning_rate(train_set)"
      ]
    },
    {
      "cell_type": "code",
      "execution_count": null,
      "metadata": {
        "id": "vVcKmg7Q_7rD"
      },
      "outputs": [],
      "source": [
        "# plt.semilogx(lr_history.history[\"lr\"], lr_history.history[\"loss\"])\n",
        "# plt.axis([1e-4, 10, 0, 10])"
      ]
    },
    {
      "cell_type": "markdown",
      "metadata": {
        "id": "vgPYkfIsLNAd"
      },
      "source": [
        "## Compiling the model\n",
        "Now that you have trained the model while varying the learning rate, it is time to do the actual training that will be used to forecast the time series. For this complete the `create_model` function below.\n",
        "\n",
        "Notice that you are reusing the architecture you defined in the `create_uncompiled_model` earlier. Now you only need to compile this model using the appropriate loss, optimizer (and learning rate).\n",
        "\n",
        "Hints:\n",
        "\n",
        "- The training should be really quick so if you notice that each epoch is taking more than a few seconds, consider trying a different architecture.\n",
        "\n",
        "\n",
        "- If after the first epoch you get an output like this: loss: nan - mae: nan it is very likely that your network is suffering from exploding gradients. This is a common problem if you used SGD as optimizer and set a learning rate that is too high. If you encounter this problem consider lowering the learning rate or using Adam with the default learning rate."
      ]
    },
    {
      "cell_type": "code",
      "execution_count": 10,
      "metadata": {
        "id": "QLHxMCUlLNAd"
      },
      "outputs": [],
      "source": [
        "def create_model():\n",
        "\n",
        "    \n",
        "    model = create_uncompiled_model()\n",
        "\n",
        "    ### START CODE HERE\n",
        "\n",
        "    model.compile(loss=tf.keras.losses.Huber(),\n",
        "                  optimizer=tf.keras.optimizers.Adam(),\n",
        "                  metrics=[\"mae\"])  \n",
        "    \n",
        "\n",
        "    ### END CODE HERE\n",
        "\n",
        "    return model"
      ]
    },
    {
      "cell_type": "code",
      "execution_count": 11,
      "metadata": {
        "id": "6XVdHt3cLNAe",
        "colab": {
          "base_uri": "https://localhost:8080/"
        },
        "outputId": "9223045e-c9bf-4562-dd22-91f35f166a47"
      },
      "outputs": [
        {
          "output_type": "stream",
          "name": "stdout",
          "text": [
            "Epoch 1/50\n",
            "25/25 [==============================] - 8s 147ms/step - loss: 9.4026 - mae: 9.9010\n",
            "Epoch 2/50\n",
            "25/25 [==============================] - 3s 126ms/step - loss: 6.1539 - mae: 6.6448\n",
            "Epoch 3/50\n",
            "25/25 [==============================] - 3s 125ms/step - loss: 3.2172 - mae: 3.6892\n",
            "Epoch 4/50\n",
            "25/25 [==============================] - 3s 127ms/step - loss: 2.7327 - mae: 3.2004\n",
            "Epoch 5/50\n",
            "25/25 [==============================] - 3s 126ms/step - loss: 2.7153 - mae: 3.1811\n",
            "Epoch 6/50\n",
            "25/25 [==============================] - 3s 126ms/step - loss: 2.7096 - mae: 3.1755\n",
            "Epoch 7/50\n",
            "25/25 [==============================] - 3s 124ms/step - loss: 2.6390 - mae: 3.1039\n",
            "Epoch 8/50\n",
            "25/25 [==============================] - 3s 126ms/step - loss: 2.1749 - mae: 2.6310\n",
            "Epoch 9/50\n",
            "25/25 [==============================] - 3s 127ms/step - loss: 1.8983 - mae: 2.3511\n",
            "Epoch 10/50\n",
            "25/25 [==============================] - 4s 147ms/step - loss: 1.8044 - mae: 2.2562\n",
            "Epoch 11/50\n",
            "25/25 [==============================] - 3s 126ms/step - loss: 1.6765 - mae: 2.1240\n",
            "Epoch 12/50\n",
            "25/25 [==============================] - 3s 125ms/step - loss: 1.6072 - mae: 2.0538\n",
            "Epoch 13/50\n",
            "25/25 [==============================] - 3s 123ms/step - loss: 1.5799 - mae: 2.0239\n",
            "Epoch 14/50\n",
            "25/25 [==============================] - 3s 125ms/step - loss: 1.5556 - mae: 2.0007\n",
            "Epoch 15/50\n",
            "25/25 [==============================] - 3s 126ms/step - loss: 1.5332 - mae: 1.9749\n",
            "Epoch 16/50\n",
            "25/25 [==============================] - 3s 124ms/step - loss: 1.5199 - mae: 1.9599\n",
            "Epoch 17/50\n",
            "25/25 [==============================] - 3s 126ms/step - loss: 1.5721 - mae: 2.0162\n",
            "Epoch 18/50\n",
            "25/25 [==============================] - 3s 125ms/step - loss: 1.5248 - mae: 1.9680\n",
            "Epoch 19/50\n",
            "25/25 [==============================] - 3s 126ms/step - loss: 1.4867 - mae: 1.9273\n",
            "Epoch 20/50\n",
            "25/25 [==============================] - 3s 125ms/step - loss: 1.5827 - mae: 2.0283\n",
            "Epoch 21/50\n",
            "25/25 [==============================] - 3s 125ms/step - loss: 1.4997 - mae: 1.9425\n",
            "Epoch 22/50\n",
            "25/25 [==============================] - 3s 126ms/step - loss: 1.4895 - mae: 1.9343\n",
            "Epoch 23/50\n",
            "25/25 [==============================] - 3s 125ms/step - loss: 1.5106 - mae: 1.9555\n",
            "Epoch 24/50\n",
            "25/25 [==============================] - 3s 126ms/step - loss: 1.4828 - mae: 1.9233\n",
            "Epoch 25/50\n",
            "25/25 [==============================] - 3s 126ms/step - loss: 1.4873 - mae: 1.9266\n",
            "Epoch 26/50\n",
            "25/25 [==============================] - 3s 127ms/step - loss: 1.4986 - mae: 1.9404\n",
            "Epoch 27/50\n",
            "25/25 [==============================] - 3s 125ms/step - loss: 1.4688 - mae: 1.9075\n",
            "Epoch 28/50\n",
            "25/25 [==============================] - 3s 126ms/step - loss: 1.4722 - mae: 1.9130\n",
            "Epoch 29/50\n",
            "25/25 [==============================] - 3s 124ms/step - loss: 1.4929 - mae: 1.9363\n",
            "Epoch 30/50\n",
            "25/25 [==============================] - 3s 126ms/step - loss: 1.4571 - mae: 1.8948\n",
            "Epoch 31/50\n",
            "25/25 [==============================] - 3s 125ms/step - loss: 1.4702 - mae: 1.9086\n",
            "Epoch 32/50\n",
            "25/25 [==============================] - 3s 125ms/step - loss: 1.4583 - mae: 1.8977\n",
            "Epoch 33/50\n",
            "25/25 [==============================] - 3s 126ms/step - loss: 1.4680 - mae: 1.9064\n",
            "Epoch 34/50\n",
            "25/25 [==============================] - 3s 126ms/step - loss: 1.4777 - mae: 1.9166\n",
            "Epoch 35/50\n",
            "25/25 [==============================] - 3s 125ms/step - loss: 1.4868 - mae: 1.9253\n",
            "Epoch 36/50\n",
            "25/25 [==============================] - 3s 126ms/step - loss: 1.5159 - mae: 1.9576\n",
            "Epoch 37/50\n",
            "25/25 [==============================] - 3s 125ms/step - loss: 1.4519 - mae: 1.8915\n",
            "Epoch 38/50\n",
            "25/25 [==============================] - 3s 126ms/step - loss: 1.4524 - mae: 1.8892\n",
            "Epoch 39/50\n",
            "25/25 [==============================] - 3s 128ms/step - loss: 1.4541 - mae: 1.8896\n",
            "Epoch 40/50\n",
            "25/25 [==============================] - 3s 125ms/step - loss: 1.4744 - mae: 1.9135\n",
            "Epoch 41/50\n",
            "25/25 [==============================] - 3s 126ms/step - loss: 1.4815 - mae: 1.9223\n",
            "Epoch 42/50\n",
            "25/25 [==============================] - 3s 126ms/step - loss: 1.4593 - mae: 1.8989\n",
            "Epoch 43/50\n",
            "25/25 [==============================] - 3s 126ms/step - loss: 1.4508 - mae: 1.8871\n",
            "Epoch 44/50\n",
            "25/25 [==============================] - 3s 128ms/step - loss: 1.4395 - mae: 1.8755\n",
            "Epoch 45/50\n",
            "25/25 [==============================] - 3s 130ms/step - loss: 1.4356 - mae: 1.8733\n",
            "Epoch 46/50\n",
            "25/25 [==============================] - 4s 133ms/step - loss: 1.4541 - mae: 1.8926\n",
            "Epoch 47/50\n",
            "25/25 [==============================] - 4s 132ms/step - loss: 1.4768 - mae: 1.9201\n",
            "Epoch 48/50\n",
            "25/25 [==============================] - 3s 129ms/step - loss: 1.4344 - mae: 1.8722\n",
            "Epoch 49/50\n",
            "25/25 [==============================] - 3s 129ms/step - loss: 1.4688 - mae: 1.9077\n",
            "Epoch 50/50\n",
            "25/25 [==============================] - 3s 128ms/step - loss: 1.4447 - mae: 1.8806\n"
          ]
        }
      ],
      "source": [
        "# Save an instance of the model\n",
        "model = create_model()\n",
        "\n",
        "# Train it\n",
        "history = model.fit(train_set, epochs=50)"
      ]
    },
    {
      "cell_type": "markdown",
      "metadata": {
        "id": "RP1f0PPALNAe"
      },
      "source": [
        "## Evaluating the forecast\n",
        "\n",
        "Now it is time to evaluate the performance of the forecast. For this you can use the `compute_metrics` function that you coded in a previous assignment:"
      ]
    },
    {
      "cell_type": "code",
      "execution_count": 12,
      "metadata": {
        "id": "uojMEnSALNAe"
      },
      "outputs": [],
      "source": [
        "def compute_metrics(true_series, forecast):\n",
        "    \n",
        "    mse = tf.keras.metrics.mean_squared_error(true_series, forecast).numpy()\n",
        "    mae = tf.keras.metrics.mean_absolute_error(true_series, forecast).numpy()\n",
        "\n",
        "    return mse, mae"
      ]
    },
    {
      "cell_type": "markdown",
      "metadata": {
        "id": "YNIpA_bRLNAf"
      },
      "source": [
        "At this point only the model that will perform the forecast is ready but you still need to compute the actual forecast.\n",
        "\n"
      ]
    },
    {
      "cell_type": "markdown",
      "metadata": {
        "id": "L2GI4escLNAf"
      },
      "source": [
        "## Faster model forecasts\n",
        "\n",
        "In the previous week you saw a faster approach compared to using a for loop to compute the forecasts for every point in the sequence. Remember that this faster approach uses batches of data. \n",
        "\n",
        "The code to implement this is provided in the `model_forecast` below. Notice that the code is very similar to the one in the `windowed_dataset` function with the differences that:\n",
        "- The dataset is windowed using `window_size` rather than `window_size + 1`\n",
        "- No shuffle should be used\n",
        "- No need to split the data into features and labels\n",
        "- A model is used to predict batches of the dataset"
      ]
    },
    {
      "cell_type": "code",
      "execution_count": 13,
      "metadata": {
        "id": "4XwGrf-A_wF0"
      },
      "outputs": [],
      "source": [
        "def model_forecast(model, series, window_size):\n",
        "    ds = tf.data.Dataset.from_tensor_slices(series)\n",
        "    ds = ds.window(window_size, shift=1, drop_remainder=True)\n",
        "    ds = ds.flat_map(lambda w: w.batch(window_size))\n",
        "    ds = ds.batch(32).prefetch(1)\n",
        "    forecast = model.predict(ds)\n",
        "    return forecast"
      ]
    },
    {
      "cell_type": "code",
      "execution_count": 14,
      "metadata": {
        "id": "PrktQX3hKYex",
        "colab": {
          "base_uri": "https://localhost:8080/",
          "height": 389
        },
        "outputId": "c0f30c5e-8f80-4cd7-e2b9-990825b148c3"
      },
      "outputs": [
        {
          "output_type": "display_data",
          "data": {
            "text/plain": [
              "<Figure size 720x432 with 1 Axes>"
            ],
            "image/png": "[encoded data removed]"
          },
          "metadata": {
            "needs_background": "light"
          }
        }
      ],
      "source": [
        "# Compute the forecast for all the series\n",
        "rnn_forecast = model_forecast(model, G.SERIES, G.WINDOW_SIZE).squeeze()\n",
        "\n",
        "# Slice the forecast to get only the predictions for the validation set\n",
        "rnn_forecast = rnn_forecast[G.SPLIT_TIME - G.WINDOW_SIZE:-1]\n",
        "\n",
        "\n",
        "# Plot the forecast\n",
        "plt.figure(figsize=(10, 6))\n",
        "plot_series(time_valid, series_valid)\n",
        "plot_series(time_valid, rnn_forecast)"
      ]
    },
    {
      "cell_type": "code",
      "execution_count": 15,
      "metadata": {
        "id": "lZme54cqLNAg",
        "colab": {
          "base_uri": "https://localhost:8080/"
        },
        "outputId": "b11cb03a-6fe6-49c3-fea4-46fc29f90403"
      },
      "outputs": [
        {
          "output_type": "stream",
          "name": "stdout",
          "text": [
            "mse: 5.27, mae: 1.79 for forecast\n"
          ]
        }
      ],
      "source": [
        "mse, mae = compute_metrics(series_valid, rnn_forecast)\n",
        "\n",
        "print(f\"mse: {mse:.2f}, mae: {mae:.2f} for forecast\")"
      ]
    },
    {
      "cell_type": "markdown",
      "metadata": {
        "id": "wzpmw9UbLNAh"
      },
      "source": [
        "**To pass this assignment your forecast should achieve a MSE of 6 or less and a MAE of 2 or less.**\n",
        "\n",
        "- If your forecast didn't achieve this threshold try re-training your model with a different architecture (you will need to re-run both `create_uncompiled_model` and `create_model` functions) or tweaking the optimizer's parameters.\n",
        "\n",
        "\n",
        "- If your forecast did achieve this threshold run the following cell to save the model in a HDF5 file which will be used for grading and after doing so, submit your assigment for grading.\n",
        "\n",
        "\n",
        "- This environment includes a dummy `my_model.h5` file which is just a dummy model trained for one epoch. **To replace this file with your actual model you need to run the next cell before submitting for grading.**"
      ]
    },
    {
      "cell_type": "code",
      "execution_count": null,
      "metadata": {
        "id": "ZNiGDd4FLNAh"
      },
      "outputs": [],
      "source": [
        "# Save your model into a HDF5 file\n",
        "model.save(\"my_model.h5\")"
      ]
    },
    {
      "cell_type": "markdown",
      "metadata": {
        "id": "n4M4qsowLNAi"
      },
      "source": [
        "**Congratulations on finishing this week's assignment!**\n",
        "\n",
        "You have successfully implemented a neural network capable of forecasting time series leveraging a combination of Tensorflow's layers such as Convolutional and LSTMs! This resulted in a forecast that surpasses all the ones you did previously.\n",
        "\n",
        "**By finishing this assignment you have finished the specialization! Give yourself a pat on the back!!!**"
      ]
    }
  ],
  "metadata": {
    "kernelspec": {
      "display_name": "Python 3",
      "language": "python",
      "name": "python3"
    },
    "language_info": {
      "codemirror_mode": {
        "name": "ipython",
        "version": 3
      },
      "file_extension": ".py",
      "mimetype": "text/x-python",
      "name": "python",
      "nbconvert_exporter": "python",
      "pygments_lexer": "ipython3",
      "version": "3.8.8"
    },
    "colab": {
      "name": "Soln_Copy of C4W4_Assignment.ipynb",
      "provenance": []
    }
  },
  "nbformat": 4,
  "nbformat_minor": 0
}